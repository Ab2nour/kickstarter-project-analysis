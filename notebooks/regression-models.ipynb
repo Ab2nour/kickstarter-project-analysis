{
 "cells": [
  {
   "cell_type": "markdown",
   "id": "13e6fb0f07d9d52b",
   "metadata": {},
   "source": [
    "# Régression non-paramétrique "
   ]
  },
  {
   "cell_type": "markdown",
   "id": "20d9fe8f0d0a0167",
   "metadata": {},
   "source": [
    "**Objectif**\n",
    "\n",
    "- vérifier l'hypothèse de hazard proportionnel\n",
    "- régression non-paramétrique et paramétrique\n",
    "- choisir le meilleur modèle pour chaque\n"
   ]
  },
  {
   "cell_type": "markdown",
   "id": "fc59e908b87828d0",
   "metadata": {},
   "source": [
    "**Tableau.** Notre démarche pour les régressions non-paramétriques.\n",
    "\n",
    "| Régressions non-paramétriques testées           | **Critère de sélection**            |\n",
    "|:------------------------------------------------|:------------------------------------|\n",
    "| - Cox proportionnel                             | - indice de concordance             |\n",
    "| - Aalen additif                                 | - MAE de prédiction (cross-validée) |\n",
    "| - Aalen additif avec pénalité (hyper-paramètre) |                                     |"
   ]
  },
  {
   "cell_type": "markdown",
   "id": "258a89a5b2010046",
   "metadata": {},
   "source": [
    "**Tableau.** Notre démarche pour les régressions paramétriques.\n",
    "\n",
    "| Régressions paramétriques testées       | **Critère de sélection**            |\n",
    "|:----------------------------------------|:------------------------------------|\n",
    "| - Weibull AFT                           | - AIC                               |\n",
    "| - Exponentiel par morceaux (3 morceaux) | - BIC                               |\n",
    "| - Exponentiel par morceaux (5 morceaux) | - MAE de prédiction (cross-validée) |"
   ]
  },
  {
   "cell_type": "code",
   "id": "3c39794f97968a3f",
   "metadata": {
    "ExecuteTime": {
     "end_time": "2025-03-13T16:39:14.095648Z",
     "start_time": "2025-03-13T16:39:13.519381Z"
    }
   },
   "source": [
    "import numpy as np\n",
    "import pandas as pd\n",
    "from lifelines import *\n",
    "from lifelines import (\n",
    "    AalenAdditiveFitter,\n",
    "    CoxPHFitter,\n",
    "    LogNormalAFTFitter,\n",
    "    PiecewiseExponentialRegressionFitter,\n",
    "    WeibullAFTFitter,\n",
    "    WeibullFitter,\n",
    ")\n",
    "from lifelines.plotting import qq_plot\n",
    "from lifelines.utils import find_best_parametric_model, k_fold_cross_validation\n",
    "from matplotlib import pyplot as plt\n",
    "from sklearn.metrics import mean_absolute_error\n",
    "\n",
    "from src.data.load_data import get_df\n",
    "from src.utils import init_notebook"
   ],
   "outputs": [],
   "execution_count": 1
  },
  {
   "cell_type": "code",
   "id": "32f1ea8c815713bb",
   "metadata": {
    "ExecuteTime": {
     "end_time": "2025-03-13T16:39:14.110647Z",
     "start_time": "2025-03-13T16:39:14.099650Z"
    }
   },
   "source": [
    "init_notebook()"
   ],
   "outputs": [],
   "execution_count": 2
  },
  {
   "cell_type": "markdown",
   "id": "579e6be13a082199",
   "metadata": {},
   "source": [
    "## Données"
   ]
  },
  {
   "cell_type": "code",
   "id": "f806c99cd0f3a8fc",
   "metadata": {
    "ExecuteTime": {
     "end_time": "2025-03-13T16:39:16.061116Z",
     "start_time": "2025-03-13T16:39:15.512953Z"
    }
   },
   "source": "df = get_df()",
   "outputs": [],
   "execution_count": 3
  },
  {
   "cell_type": "code",
   "id": "75c601e5b4463afb",
   "metadata": {
    "ExecuteTime": {
     "end_time": "2025-03-13T16:39:16.122062Z",
     "start_time": "2025-03-13T16:39:16.108072Z"
    }
   },
   "source": [
    "df = df[\n",
    "    [\n",
    "        \"day_succ\",\n",
    "        \"Status\",\n",
    "        \"has_video\",\n",
    "        \"facebook_connected\",\n",
    "        \"goal\",\n",
    "        \"facebook_friends\",\n",
    "    ]\n",
    "]"
   ],
   "outputs": [],
   "execution_count": 4
  },
  {
   "cell_type": "code",
   "id": "2e13065ce6d1c754",
   "metadata": {
    "ExecuteTime": {
     "end_time": "2025-03-13T16:39:16.574822Z",
     "start_time": "2025-03-13T16:39:16.560821Z"
    }
   },
   "source": [
    "event_times = df[\"day_succ\"]\n",
    "event_observed = df[\"Status\"]"
   ],
   "outputs": [],
   "execution_count": 5
  },
  {
   "cell_type": "code",
   "id": "e21809bf32473272",
   "metadata": {
    "ExecuteTime": {
     "end_time": "2025-03-13T16:39:17.183547Z",
     "start_time": "2025-03-13T16:39:17.014851Z"
    }
   },
   "source": [
    "cph = CoxPHFitter()\n",
    "cph.fit(df, duration_col=\"day_succ\", event_col=\"Status\")"
   ],
   "outputs": [
    {
     "name": "stderr",
     "output_type": "stream",
     "text": [
      "C:\\Users\\AB2-PC\\Documents\\GitHub\\ab2\\kickstarter-project-analysis\\.venv\\lib\\site-packages\\lifelines\\fitters\\coxph_fitter.py:1614: ConvergenceWarning: Newton-Raphson failed to converge sufficiently. Please see the following tips in the lifelines documentation: https://lifelines.readthedocs.io/en/latest/Examples.html#problems-with-convergence-in-the-cox-proportional-hazard-model\n",
      "  warnings.warn(\n"
     ]
    },
    {
     "data": {
      "text/plain": [
       "<lifelines.CoxPHFitter: fitted with 18093 total observations, 9065 right-censored observations>"
      ]
     },
     "execution_count": 6,
     "metadata": {},
     "output_type": "execute_result"
    }
   ],
   "execution_count": 6
  },
  {
   "cell_type": "markdown",
   "id": "7dd4c79287a83d47",
   "metadata": {},
   "source": [
    "## Vérification du hazard proportionnel"
   ]
  },
  {
   "cell_type": "code",
   "id": "6f18c7751fc6dccf",
   "metadata": {
    "ExecuteTime": {
     "end_time": "2025-03-13T16:44:16.091567Z",
     "start_time": "2025-03-13T16:44:16.080565Z"
    }
   },
   "source": "# cph.check_assumptions(df, show_plots=True)",
   "outputs": [],
   "execution_count": 8
  },
  {
   "cell_type": "markdown",
   "id": "de5842d5c3027b1c",
   "metadata": {},
   "source": [
    "## Modèles non-paramétrique"
   ]
  },
  {
   "cell_type": "markdown",
   "id": "50774cf31f5a0587",
   "metadata": {},
   "source": [
    "### Modèle de Cox"
   ]
  },
  {
   "cell_type": "code",
   "id": "a20a62b7abdf704c",
   "metadata": {
    "ExecuteTime": {
     "end_time": "2025-03-13T16:44:18.449965Z",
     "start_time": "2025-03-13T16:44:18.265969Z"
    }
   },
   "source": [
    "cph.print_summary()"
   ],
   "outputs": [
    {
     "data": {
      "text/plain": [
       "<lifelines.CoxPHFitter: fitted with 18093 total observations, 9065 right-censored observations>\n",
       "             duration col = 'day_succ'\n",
       "                event col = 'Status'\n",
       "      baseline estimation = breslow\n",
       "   number of observations = 18093\n",
       "number of events observed = 9028\n",
       "   partial log-likelihood = -82929.05\n",
       "         time fit was run = 2025-03-13 16:39:17 UTC\n",
       "\n",
       "---\n",
       "                    coef exp(coef)  se(coef)  coef lower 95%  coef upper 95% exp(coef) lower 95% exp(coef) upper 95%\n",
       "covariate                                                                                                           \n",
       "has_video           0.60      1.83      0.03            0.54            0.67                1.71                1.95\n",
       "facebook_connected -0.06      0.94      0.02           -0.11           -0.02                0.90                0.98\n",
       "goal               -6.52      0.00      0.41           -7.32           -5.73                0.00                0.00\n",
       "facebook_friends    0.13      1.14      0.01            0.11            0.15                1.12                1.16\n",
       "\n",
       "                    cmp to      z      p  -log2(p)\n",
       "covariate                                         \n",
       "has_video             0.00  17.91 <0.005    235.78\n",
       "facebook_connected    0.00  -2.66   0.01      6.99\n",
       "goal                  0.00 -16.07 <0.005    190.71\n",
       "facebook_friends      0.00  13.93 <0.005    144.09\n",
       "---\n",
       "Concordance = 0.63\n",
       "Partial AIC = 165866.09\n",
       "log-likelihood ratio test = 1449.86 on 4 df\n",
       "-log2(p) of ll-ratio test = inf"
      ],
      "text/html": [
       "<div>\n",
       "<style scoped>\n",
       "    .dataframe tbody tr th:only-of-type {\n",
       "        vertical-align: middle;\n",
       "    }\n",
       "\n",
       "    .dataframe tbody tr th {\n",
       "        vertical-align: top;\n",
       "    }\n",
       "\n",
       "    .dataframe thead th {\n",
       "        text-align: right;\n",
       "    }\n",
       "</style>\n",
       "<table border=\"1\" class=\"dataframe\">\n",
       "  <tbody>\n",
       "    <tr>\n",
       "      <th>model</th>\n",
       "      <td>lifelines.CoxPHFitter</td>\n",
       "    </tr>\n",
       "    <tr>\n",
       "      <th>duration col</th>\n",
       "      <td>'day_succ'</td>\n",
       "    </tr>\n",
       "    <tr>\n",
       "      <th>event col</th>\n",
       "      <td>'Status'</td>\n",
       "    </tr>\n",
       "    <tr>\n",
       "      <th>baseline estimation</th>\n",
       "      <td>breslow</td>\n",
       "    </tr>\n",
       "    <tr>\n",
       "      <th>number of observations</th>\n",
       "      <td>18093</td>\n",
       "    </tr>\n",
       "    <tr>\n",
       "      <th>number of events observed</th>\n",
       "      <td>9028</td>\n",
       "    </tr>\n",
       "    <tr>\n",
       "      <th>partial log-likelihood</th>\n",
       "      <td>-82929.05</td>\n",
       "    </tr>\n",
       "    <tr>\n",
       "      <th>time fit was run</th>\n",
       "      <td>2025-03-13 16:39:17 UTC</td>\n",
       "    </tr>\n",
       "  </tbody>\n",
       "</table>\n",
       "</div><table border=\"1\" class=\"dataframe\">\n",
       "  <thead>\n",
       "    <tr style=\"text-align: right;\">\n",
       "      <th style=\"min-width: 12px;\"></th>\n",
       "      <th style=\"min-width: 12px;\">coef</th>\n",
       "      <th style=\"min-width: 12px;\">exp(coef)</th>\n",
       "      <th style=\"min-width: 12px;\">se(coef)</th>\n",
       "      <th style=\"min-width: 12px;\">coef lower 95%</th>\n",
       "      <th style=\"min-width: 12px;\">coef upper 95%</th>\n",
       "      <th style=\"min-width: 12px;\">exp(coef) lower 95%</th>\n",
       "      <th style=\"min-width: 12px;\">exp(coef) upper 95%</th>\n",
       "      <th style=\"min-width: 12px;\">cmp to</th>\n",
       "      <th style=\"min-width: 12px;\">z</th>\n",
       "      <th style=\"min-width: 12px;\">p</th>\n",
       "      <th style=\"min-width: 12px;\">-log2(p)</th>\n",
       "    </tr>\n",
       "  </thead>\n",
       "  <tbody>\n",
       "    <tr>\n",
       "      <th>has_video</th>\n",
       "      <td>0.60</td>\n",
       "      <td>1.83</td>\n",
       "      <td>0.03</td>\n",
       "      <td>0.54</td>\n",
       "      <td>0.67</td>\n",
       "      <td>1.71</td>\n",
       "      <td>1.95</td>\n",
       "      <td>0.00</td>\n",
       "      <td>17.91</td>\n",
       "      <td>&lt;0.005</td>\n",
       "      <td>235.78</td>\n",
       "    </tr>\n",
       "    <tr>\n",
       "      <th>facebook_connected</th>\n",
       "      <td>-0.06</td>\n",
       "      <td>0.94</td>\n",
       "      <td>0.02</td>\n",
       "      <td>-0.11</td>\n",
       "      <td>-0.02</td>\n",
       "      <td>0.90</td>\n",
       "      <td>0.98</td>\n",
       "      <td>0.00</td>\n",
       "      <td>-2.66</td>\n",
       "      <td>0.01</td>\n",
       "      <td>6.99</td>\n",
       "    </tr>\n",
       "    <tr>\n",
       "      <th>goal</th>\n",
       "      <td>-6.52</td>\n",
       "      <td>0.00</td>\n",
       "      <td>0.41</td>\n",
       "      <td>-7.32</td>\n",
       "      <td>-5.73</td>\n",
       "      <td>0.00</td>\n",
       "      <td>0.00</td>\n",
       "      <td>0.00</td>\n",
       "      <td>-16.07</td>\n",
       "      <td>&lt;0.005</td>\n",
       "      <td>190.71</td>\n",
       "    </tr>\n",
       "    <tr>\n",
       "      <th>facebook_friends</th>\n",
       "      <td>0.13</td>\n",
       "      <td>1.14</td>\n",
       "      <td>0.01</td>\n",
       "      <td>0.11</td>\n",
       "      <td>0.15</td>\n",
       "      <td>1.12</td>\n",
       "      <td>1.16</td>\n",
       "      <td>0.00</td>\n",
       "      <td>13.93</td>\n",
       "      <td>&lt;0.005</td>\n",
       "      <td>144.09</td>\n",
       "    </tr>\n",
       "  </tbody>\n",
       "</table><br><div>\n",
       "<style scoped>\n",
       "    .dataframe tbody tr th:only-of-type {\n",
       "        vertical-align: middle;\n",
       "    }\n",
       "\n",
       "    .dataframe tbody tr th {\n",
       "        vertical-align: top;\n",
       "    }\n",
       "\n",
       "    .dataframe thead th {\n",
       "        text-align: right;\n",
       "    }\n",
       "</style>\n",
       "<table border=\"1\" class=\"dataframe\">\n",
       "  <tbody>\n",
       "    <tr>\n",
       "      <th>Concordance</th>\n",
       "      <td>0.63</td>\n",
       "    </tr>\n",
       "    <tr>\n",
       "      <th>Partial AIC</th>\n",
       "      <td>165866.09</td>\n",
       "    </tr>\n",
       "    <tr>\n",
       "      <th>log-likelihood ratio test</th>\n",
       "      <td>1449.86 on 4 df</td>\n",
       "    </tr>\n",
       "    <tr>\n",
       "      <th>-log2(p) of ll-ratio test</th>\n",
       "      <td>inf</td>\n",
       "    </tr>\n",
       "  </tbody>\n",
       "</table>\n",
       "</div>"
      ],
      "text/latex": "\\begin{tabular}{lrrrrrrrrrrr}\n & coef & exp(coef) & se(coef) & coef lower 95% & coef upper 95% & exp(coef) lower 95% & exp(coef) upper 95% & cmp to & z & p & -log2(p) \\\\\ncovariate &  &  &  &  &  &  &  &  &  &  &  \\\\\nhas_video & 0.60 & 1.83 & 0.03 & 0.54 & 0.67 & 1.71 & 1.95 & 0.00 & 17.91 & 0.00 & 235.78 \\\\\nfacebook_connected & -0.06 & 0.94 & 0.02 & -0.11 & -0.02 & 0.90 & 0.98 & 0.00 & -2.66 & 0.01 & 6.99 \\\\\ngoal & -6.52 & 0.00 & 0.41 & -7.32 & -5.73 & 0.00 & 0.00 & 0.00 & -16.07 & 0.00 & 190.71 \\\\\nfacebook_friends & 0.13 & 1.14 & 0.01 & 0.11 & 0.15 & 1.12 & 1.16 & 0.00 & 13.93 & 0.00 & 144.09 \\\\\n\\end{tabular}\n"
     },
     "metadata": {},
     "output_type": "display_data"
    }
   ],
   "execution_count": 9
  },
  {
   "cell_type": "code",
   "id": "7853f17f3e332e49",
   "metadata": {
    "ExecuteTime": {
     "end_time": "2025-03-13T16:44:19.276968Z",
     "start_time": "2025-03-13T16:44:19.045969Z"
    }
   },
   "source": [
    "cph.plot_partial_effects_on_outcome(covariates=\"has_video\", values=[0, 1])"
   ],
   "outputs": [
    {
     "data": {
      "text/plain": [
       "<Axes: >"
      ]
     },
     "execution_count": 10,
     "metadata": {},
     "output_type": "execute_result"
    },
    {
     "data": {
      "text/plain": [
       "<Figure size 640x480 with 1 Axes>"
      ],
      "image/png": "[encoded data removed]"
     },
     "metadata": {},
     "output_type": "display_data"
    }
   ],
   "execution_count": 10
  },
  {
   "cell_type": "markdown",
   "id": "ad872e17550bc093",
   "metadata": {},
   "source": []
  },
  {
   "cell_type": "markdown",
   "id": "d666543f49f54f7e",
   "metadata": {},
   "source": [
    "### Cross-validation (Cox & Aalen additif)"
   ]
  },
  {
   "cell_type": "code",
   "id": "51c7d6eb32e90435",
   "metadata": {
    "ExecuteTime": {
     "end_time": "2025-03-13T16:44:22.229330Z",
     "start_time": "2025-03-13T16:44:22.216314Z"
    }
   },
   "source": [
    "# create the three models we'd like to compare.\n",
    "aaf_1 = AalenAdditiveFitter(coef_penalizer=0)\n",
    "aaf_2 = AalenAdditiveFitter(coef_penalizer=10)\n",
    "cph = CoxPHFitter()"
   ],
   "outputs": [],
   "execution_count": 11
  },
  {
   "cell_type": "code",
   "id": "af9a6292789d1417",
   "metadata": {
    "ExecuteTime": {
     "end_time": "2025-03-13T16:44:23.268896Z",
     "start_time": "2025-03-13T16:44:23.254897Z"
    }
   },
   "source": [
    "def moyenne_cross_val(model, df: pd.DataFrame):\n",
    "    return np.mean(\n",
    "        k_fold_cross_validation(\n",
    "            model,\n",
    "            df,\n",
    "            duration_col=\"day_succ\",\n",
    "            event_col=\"Status\",\n",
    "            scoring_method=\"concordance_index\",\n",
    "        )\n",
    "    )"
   ],
   "outputs": [],
   "execution_count": 12
  },
  {
   "cell_type": "code",
   "id": "cadaa438aa74ee27",
   "metadata": {
    "ExecuteTime": {
     "end_time": "2025-03-13T16:44:26.907005Z",
     "start_time": "2025-03-13T16:44:24.096995Z"
    }
   },
   "source": [
    "models_list = {\n",
    "    \"Cox proportionnel\": cph,\n",
    "    \"Aalen Additive (sans pénalité)\": aaf_1,\n",
    "    \"Aalen Additive (pénalité 10)\": aaf_2,\n",
    "}\n",
    "\n",
    "cox_tab = {\n",
    "    \"Modèle\": [],\n",
    "    \"Indice de concordance\": [],\n",
    "}  # todo: rename\n",
    "\n",
    "for model in models_list.keys():\n",
    "    m = models_list[model]\n",
    "    moy = moyenne_cross_val(m, df)\n",
    "\n",
    "    cox_tab[\"Modèle\"].append(model)\n",
    "    cox_tab[\"Indice de concordance\"].append(moy)"
   ],
   "outputs": [],
   "execution_count": 13
  },
  {
   "cell_type": "code",
   "execution_count": null,
   "id": "fd9489dddc171dcc",
   "metadata": {},
   "outputs": [],
   "source": [
    "# print(pd.DataFrame(cox_tab).to_markdown(index=False))"
   ]
  },
  {
   "cell_type": "markdown",
   "id": "ba1208131416cbb3",
   "metadata": {},
   "source": [
    "**Tableau.** Comparaison des modèles de régression non-paramétriques.\n",
    "\n",
    "| Modèle                         |   Indice de concordance |\n",
    "|:-------------------------------|------------------------:|\n",
    "| Cox proportionnel              |                0.656568 |\n",
    "| Aalen Additive (sans pénalité) |                0.586883 |\n",
    "| Aalen Additive (pénalité 10)   |                0.588575 |"
   ]
  },
  {
   "cell_type": "markdown",
   "id": "1ccce86e9b96d5bd",
   "metadata": {},
   "source": [
    "Interprétation : \n",
    "- indice de concordance **> 0.5** => performance **supérieure** à du hasard\n",
    "- indice de concordance **= 0.5** => performance **équivalente** à du hasard\n",
    "- indice de concordance **< 0.5** => performance **inférieure** à du hasard"
   ]
  },
  {
   "cell_type": "markdown",
   "id": "14d4a88b78de094c",
   "metadata": {},
   "source": [
    "Choix : **modèle de Cox proportionnel**"
   ]
  },
  {
   "cell_type": "markdown",
   "id": "da5a0c4a3a3f25cd",
   "metadata": {},
   "source": [
    "## Prédictions"
   ]
  },
  {
   "cell_type": "code",
   "id": "1924058ac191413f",
   "metadata": {
    "ExecuteTime": {
     "end_time": "2025-03-13T16:44:37.569770Z",
     "start_time": "2025-03-13T16:44:37.554773Z"
    }
   },
   "source": [
    "models_nonparam = {\n",
    "    \"Cox proportionnel\": cph,\n",
    "    \"Aalen additif (sans pénalité)\": aaf_1,\n",
    "    \"Aalen additif (avec pénalité=10)\": aaf_2,\n",
    "}\n",
    "\n",
    "models_param = {\n",
    "    \"Weibull AFT\": WeibullAFTFitter(),\n",
    "    \"Exponentiel morceaux (3)\": PiecewiseExponentialRegressionFitter(\n",
    "        breakpoints=[9, 21, 29]\n",
    "    ),\n",
    "    \"Exponentiel morceaux (5)\": PiecewiseExponentialRegressionFitter(\n",
    "        breakpoints=[10, 20, 30, 40, 50]\n",
    "    ),\n",
    "}"
   ],
   "outputs": [],
   "execution_count": 14
  },
  {
   "cell_type": "code",
   "id": "c47516624894035b",
   "metadata": {
    "ExecuteTime": {
     "end_time": "2025-03-13T16:44:38.149169Z",
     "start_time": "2025-03-13T16:44:38.134170Z"
    }
   },
   "source": [
    "res_models = {\n",
    "    \"Modèle\": [],\n",
    "    \"AIC\": [],\n",
    "    \"BIC\": [],\n",
    "    \"MAE\": [],\n",
    "}"
   ],
   "outputs": [],
   "execution_count": 15
  },
  {
   "cell_type": "code",
   "id": "2c8544eb878ad98d",
   "metadata": {
    "ExecuteTime": {
     "end_time": "2025-03-13T16:44:39.054214Z",
     "start_time": "2025-03-13T16:44:38.698214Z"
    }
   },
   "source": [
    "for model_name in models_nonparam.keys():\n",
    "    model = models_nonparam[model_name]\n",
    "    model.fit(df, duration_col=\"day_succ\", event_col=\"Status\")\n",
    "\n",
    "    y_pred = model.predict_expectation(df)\n",
    "    mae = mean_absolute_error(event_times, y_pred)\n",
    "\n",
    "    res_models[\"Modèle\"].append(model_name)\n",
    "    res_models[\"MAE\"].append(mae)\n",
    "    res_models[\"AIC\"].append(np.nan)\n",
    "    res_models[\"BIC\"].append(np.nan)"
   ],
   "outputs": [],
   "execution_count": 16
  },
  {
   "cell_type": "code",
   "id": "6e97532a1258be79",
   "metadata": {
    "ExecuteTime": {
     "end_time": "2025-03-13T16:44:40.465430Z",
     "start_time": "2025-03-13T16:44:39.766452Z"
    }
   },
   "source": [
    "for model_name in models_param.keys():\n",
    "    model = models_param[model_name]\n",
    "    model.fit(df, duration_col=\"day_succ\", event_col=\"Status\")\n",
    "\n",
    "    y_pred = model.predict_expectation(df)\n",
    "    mae = mean_absolute_error(event_times, y_pred)\n",
    "\n",
    "    res_models[\"Modèle\"].append(model_name)\n",
    "    res_models[\"MAE\"].append(mae)\n",
    "    res_models[\"AIC\"].append(model.AIC_)\n",
    "    res_models[\"BIC\"].append(model.BIC_)"
   ],
   "outputs": [
    {
     "name": "stderr",
     "output_type": "stream",
     "text": [
      "C:\\Users\\AB2-PC\\Documents\\GitHub\\ab2\\kickstarter-project-analysis\\.venv\\lib\\site-packages\\pandas\\core\\arraylike.py:399: RuntimeWarning: overflow encountered in exp\n",
      "  result = getattr(ufunc, method)(*inputs, **kwargs)\n",
      "C:\\Users\\AB2-PC\\Documents\\GitHub\\ab2\\kickstarter-project-analysis\\.venv\\lib\\site-packages\\pandas\\core\\arraylike.py:399: RuntimeWarning: overflow encountered in exp\n",
      "  result = getattr(ufunc, method)(*inputs, **kwargs)\n"
     ]
    },
    {
     "ename": "ValueError",
     "evalue": "Input contains infinity or a value too large for dtype('float64').",
     "output_type": "error",
     "traceback": [
      "\u001B[1;31m---------------------------------------------------------------------------\u001B[0m",
      "\u001B[1;31mValueError\u001B[0m                                Traceback (most recent call last)",
      "Cell \u001B[1;32mIn[17], line 6\u001B[0m\n\u001B[0;32m      3\u001B[0m model\u001B[38;5;241m.\u001B[39mfit(df, duration_col\u001B[38;5;241m=\u001B[39m\u001B[38;5;124m\"\u001B[39m\u001B[38;5;124mday_succ\u001B[39m\u001B[38;5;124m\"\u001B[39m, event_col\u001B[38;5;241m=\u001B[39m\u001B[38;5;124m\"\u001B[39m\u001B[38;5;124mStatus\u001B[39m\u001B[38;5;124m\"\u001B[39m)\n\u001B[0;32m      5\u001B[0m y_pred \u001B[38;5;241m=\u001B[39m model\u001B[38;5;241m.\u001B[39mpredict_expectation(df)\n\u001B[1;32m----> 6\u001B[0m mae \u001B[38;5;241m=\u001B[39m \u001B[43mmean_absolute_error\u001B[49m\u001B[43m(\u001B[49m\u001B[43mevent_times\u001B[49m\u001B[43m,\u001B[49m\u001B[43m \u001B[49m\u001B[43my_pred\u001B[49m\u001B[43m)\u001B[49m\n\u001B[0;32m      8\u001B[0m res_models[\u001B[38;5;124m\"\u001B[39m\u001B[38;5;124mModèle\u001B[39m\u001B[38;5;124m\"\u001B[39m]\u001B[38;5;241m.\u001B[39mappend(model_name)\n\u001B[0;32m      9\u001B[0m res_models[\u001B[38;5;124m\"\u001B[39m\u001B[38;5;124mMAE\u001B[39m\u001B[38;5;124m\"\u001B[39m]\u001B[38;5;241m.\u001B[39mappend(mae)\n",
      "File \u001B[1;32m~\\Documents\\GitHub\\ab2\\kickstarter-project-analysis\\.venv\\lib\\site-packages\\sklearn\\utils\\_param_validation.py:216\u001B[0m, in \u001B[0;36mvalidate_params.<locals>.decorator.<locals>.wrapper\u001B[1;34m(*args, **kwargs)\u001B[0m\n\u001B[0;32m    210\u001B[0m \u001B[38;5;28;01mtry\u001B[39;00m:\n\u001B[0;32m    211\u001B[0m     \u001B[38;5;28;01mwith\u001B[39;00m config_context(\n\u001B[0;32m    212\u001B[0m         skip_parameter_validation\u001B[38;5;241m=\u001B[39m(\n\u001B[0;32m    213\u001B[0m             prefer_skip_nested_validation \u001B[38;5;129;01mor\u001B[39;00m global_skip_validation\n\u001B[0;32m    214\u001B[0m         )\n\u001B[0;32m    215\u001B[0m     ):\n\u001B[1;32m--> 216\u001B[0m         \u001B[38;5;28;01mreturn\u001B[39;00m func(\u001B[38;5;241m*\u001B[39margs, \u001B[38;5;241m*\u001B[39m\u001B[38;5;241m*\u001B[39mkwargs)\n\u001B[0;32m    217\u001B[0m \u001B[38;5;28;01mexcept\u001B[39;00m InvalidParameterError \u001B[38;5;28;01mas\u001B[39;00m e:\n\u001B[0;32m    218\u001B[0m     \u001B[38;5;66;03m# When the function is just a wrapper around an estimator, we allow\u001B[39;00m\n\u001B[0;32m    219\u001B[0m     \u001B[38;5;66;03m# the function to delegate validation to the estimator, but we replace\u001B[39;00m\n\u001B[0;32m    220\u001B[0m     \u001B[38;5;66;03m# the name of the estimator by the name of the function in the error\u001B[39;00m\n\u001B[0;32m    221\u001B[0m     \u001B[38;5;66;03m# message to avoid confusion.\u001B[39;00m\n\u001B[0;32m    222\u001B[0m     msg \u001B[38;5;241m=\u001B[39m re\u001B[38;5;241m.\u001B[39msub(\n\u001B[0;32m    223\u001B[0m         \u001B[38;5;124mr\u001B[39m\u001B[38;5;124m\"\u001B[39m\u001B[38;5;124mparameter of \u001B[39m\u001B[38;5;124m\\\u001B[39m\u001B[38;5;124mw+ must be\u001B[39m\u001B[38;5;124m\"\u001B[39m,\n\u001B[0;32m    224\u001B[0m         \u001B[38;5;124mf\u001B[39m\u001B[38;5;124m\"\u001B[39m\u001B[38;5;124mparameter of \u001B[39m\u001B[38;5;132;01m{\u001B[39;00mfunc\u001B[38;5;241m.\u001B[39m\u001B[38;5;18m__qualname__\u001B[39m\u001B[38;5;132;01m}\u001B[39;00m\u001B[38;5;124m must be\u001B[39m\u001B[38;5;124m\"\u001B[39m,\n\u001B[0;32m    225\u001B[0m         \u001B[38;5;28mstr\u001B[39m(e),\n\u001B[0;32m    226\u001B[0m     )\n",
      "File \u001B[1;32m~\\Documents\\GitHub\\ab2\\kickstarter-project-analysis\\.venv\\lib\\site-packages\\sklearn\\metrics\\_regression.py:277\u001B[0m, in \u001B[0;36mmean_absolute_error\u001B[1;34m(y_true, y_pred, sample_weight, multioutput)\u001B[0m\n\u001B[0;32m    222\u001B[0m \u001B[38;5;250m\u001B[39m\u001B[38;5;124;03m\"\"\"Mean absolute error regression loss.\u001B[39;00m\n\u001B[0;32m    223\u001B[0m \n\u001B[0;32m    224\u001B[0m \u001B[38;5;124;03mRead more in the :ref:`User Guide <mean_absolute_error>`.\u001B[39;00m\n\u001B[1;32m   (...)\u001B[0m\n\u001B[0;32m    272\u001B[0m \u001B[38;5;124;03m0.85...\u001B[39;00m\n\u001B[0;32m    273\u001B[0m \u001B[38;5;124;03m\"\"\"\u001B[39;00m\n\u001B[0;32m    274\u001B[0m xp, _ \u001B[38;5;241m=\u001B[39m get_namespace(y_true, y_pred, sample_weight, multioutput)\n\u001B[0;32m    276\u001B[0m _, y_true, y_pred, sample_weight, multioutput \u001B[38;5;241m=\u001B[39m (\n\u001B[1;32m--> 277\u001B[0m     \u001B[43m_check_reg_targets_with_floating_dtype\u001B[49m\u001B[43m(\u001B[49m\n\u001B[0;32m    278\u001B[0m \u001B[43m        \u001B[49m\u001B[43my_true\u001B[49m\u001B[43m,\u001B[49m\u001B[43m \u001B[49m\u001B[43my_pred\u001B[49m\u001B[43m,\u001B[49m\u001B[43m \u001B[49m\u001B[43msample_weight\u001B[49m\u001B[43m,\u001B[49m\u001B[43m \u001B[49m\u001B[43mmultioutput\u001B[49m\u001B[43m,\u001B[49m\u001B[43m \u001B[49m\u001B[43mxp\u001B[49m\u001B[38;5;241;43m=\u001B[39;49m\u001B[43mxp\u001B[49m\n\u001B[0;32m    279\u001B[0m \u001B[43m    \u001B[49m\u001B[43m)\u001B[49m\n\u001B[0;32m    280\u001B[0m )\n\u001B[0;32m    282\u001B[0m check_consistent_length(y_true, y_pred, sample_weight)\n\u001B[0;32m    284\u001B[0m output_errors \u001B[38;5;241m=\u001B[39m _average(\n\u001B[0;32m    285\u001B[0m     xp\u001B[38;5;241m.\u001B[39mabs(y_pred \u001B[38;5;241m-\u001B[39m y_true), weights\u001B[38;5;241m=\u001B[39msample_weight, axis\u001B[38;5;241m=\u001B[39m\u001B[38;5;241m0\u001B[39m, xp\u001B[38;5;241m=\u001B[39mxp\n\u001B[0;32m    286\u001B[0m )\n",
      "File \u001B[1;32m~\\Documents\\GitHub\\ab2\\kickstarter-project-analysis\\.venv\\lib\\site-packages\\sklearn\\metrics\\_regression.py:198\u001B[0m, in \u001B[0;36m_check_reg_targets_with_floating_dtype\u001B[1;34m(y_true, y_pred, sample_weight, multioutput, xp)\u001B[0m\n\u001B[0;32m    148\u001B[0m \u001B[38;5;250m\u001B[39m\u001B[38;5;124;03m\"\"\"Ensures that y_true, y_pred, and sample_weight correspond to the same\u001B[39;00m\n\u001B[0;32m    149\u001B[0m \u001B[38;5;124;03mregression task.\u001B[39;00m\n\u001B[0;32m    150\u001B[0m \n\u001B[1;32m   (...)\u001B[0m\n\u001B[0;32m    194\u001B[0m \u001B[38;5;124;03m    correct keyword.\u001B[39;00m\n\u001B[0;32m    195\u001B[0m \u001B[38;5;124;03m\"\"\"\u001B[39;00m\n\u001B[0;32m    196\u001B[0m dtype_name \u001B[38;5;241m=\u001B[39m _find_matching_floating_dtype(y_true, y_pred, sample_weight, xp\u001B[38;5;241m=\u001B[39mxp)\n\u001B[1;32m--> 198\u001B[0m y_type, y_true, y_pred, multioutput \u001B[38;5;241m=\u001B[39m \u001B[43m_check_reg_targets\u001B[49m\u001B[43m(\u001B[49m\n\u001B[0;32m    199\u001B[0m \u001B[43m    \u001B[49m\u001B[43my_true\u001B[49m\u001B[43m,\u001B[49m\u001B[43m \u001B[49m\u001B[43my_pred\u001B[49m\u001B[43m,\u001B[49m\u001B[43m \u001B[49m\u001B[43mmultioutput\u001B[49m\u001B[43m,\u001B[49m\u001B[43m \u001B[49m\u001B[43mdtype\u001B[49m\u001B[38;5;241;43m=\u001B[39;49m\u001B[43mdtype_name\u001B[49m\u001B[43m,\u001B[49m\u001B[43m \u001B[49m\u001B[43mxp\u001B[49m\u001B[38;5;241;43m=\u001B[39;49m\u001B[43mxp\u001B[49m\n\u001B[0;32m    200\u001B[0m \u001B[43m\u001B[49m\u001B[43m)\u001B[49m\n\u001B[0;32m    202\u001B[0m \u001B[38;5;66;03m# _check_reg_targets does not accept sample_weight as input.\u001B[39;00m\n\u001B[0;32m    203\u001B[0m \u001B[38;5;66;03m# Convert sample_weight's data type separately to match dtype_name.\u001B[39;00m\n\u001B[0;32m    204\u001B[0m \u001B[38;5;28;01mif\u001B[39;00m sample_weight \u001B[38;5;129;01mis\u001B[39;00m \u001B[38;5;129;01mnot\u001B[39;00m \u001B[38;5;28;01mNone\u001B[39;00m:\n",
      "File \u001B[1;32m~\\Documents\\GitHub\\ab2\\kickstarter-project-analysis\\.venv\\lib\\site-packages\\sklearn\\metrics\\_regression.py:106\u001B[0m, in \u001B[0;36m_check_reg_targets\u001B[1;34m(y_true, y_pred, multioutput, dtype, xp)\u001B[0m\n\u001B[0;32m    104\u001B[0m check_consistent_length(y_true, y_pred)\n\u001B[0;32m    105\u001B[0m y_true \u001B[38;5;241m=\u001B[39m check_array(y_true, ensure_2d\u001B[38;5;241m=\u001B[39m\u001B[38;5;28;01mFalse\u001B[39;00m, dtype\u001B[38;5;241m=\u001B[39mdtype)\n\u001B[1;32m--> 106\u001B[0m y_pred \u001B[38;5;241m=\u001B[39m \u001B[43mcheck_array\u001B[49m\u001B[43m(\u001B[49m\u001B[43my_pred\u001B[49m\u001B[43m,\u001B[49m\u001B[43m \u001B[49m\u001B[43mensure_2d\u001B[49m\u001B[38;5;241;43m=\u001B[39;49m\u001B[38;5;28;43;01mFalse\u001B[39;49;00m\u001B[43m,\u001B[49m\u001B[43m \u001B[49m\u001B[43mdtype\u001B[49m\u001B[38;5;241;43m=\u001B[39;49m\u001B[43mdtype\u001B[49m\u001B[43m)\u001B[49m\n\u001B[0;32m    108\u001B[0m \u001B[38;5;28;01mif\u001B[39;00m y_true\u001B[38;5;241m.\u001B[39mndim \u001B[38;5;241m==\u001B[39m \u001B[38;5;241m1\u001B[39m:\n\u001B[0;32m    109\u001B[0m     y_true \u001B[38;5;241m=\u001B[39m xp\u001B[38;5;241m.\u001B[39mreshape(y_true, (\u001B[38;5;241m-\u001B[39m\u001B[38;5;241m1\u001B[39m, \u001B[38;5;241m1\u001B[39m))\n",
      "File \u001B[1;32m~\\Documents\\GitHub\\ab2\\kickstarter-project-analysis\\.venv\\lib\\site-packages\\sklearn\\utils\\validation.py:1107\u001B[0m, in \u001B[0;36mcheck_array\u001B[1;34m(array, accept_sparse, accept_large_sparse, dtype, order, copy, force_writeable, force_all_finite, ensure_all_finite, ensure_non_negative, ensure_2d, allow_nd, ensure_min_samples, ensure_min_features, estimator, input_name)\u001B[0m\n\u001B[0;32m   1101\u001B[0m     \u001B[38;5;28;01mraise\u001B[39;00m \u001B[38;5;167;01mValueError\u001B[39;00m(\n\u001B[0;32m   1102\u001B[0m         \u001B[38;5;124m\"\u001B[39m\u001B[38;5;124mFound array with dim \u001B[39m\u001B[38;5;132;01m%d\u001B[39;00m\u001B[38;5;124m. \u001B[39m\u001B[38;5;132;01m%s\u001B[39;00m\u001B[38;5;124m expected <= 2.\u001B[39m\u001B[38;5;124m\"\u001B[39m\n\u001B[0;32m   1103\u001B[0m         \u001B[38;5;241m%\u001B[39m (array\u001B[38;5;241m.\u001B[39mndim, estimator_name)\n\u001B[0;32m   1104\u001B[0m     )\n\u001B[0;32m   1106\u001B[0m \u001B[38;5;28;01mif\u001B[39;00m ensure_all_finite:\n\u001B[1;32m-> 1107\u001B[0m     \u001B[43m_assert_all_finite\u001B[49m\u001B[43m(\u001B[49m\n\u001B[0;32m   1108\u001B[0m \u001B[43m        \u001B[49m\u001B[43marray\u001B[49m\u001B[43m,\u001B[49m\n\u001B[0;32m   1109\u001B[0m \u001B[43m        \u001B[49m\u001B[43minput_name\u001B[49m\u001B[38;5;241;43m=\u001B[39;49m\u001B[43minput_name\u001B[49m\u001B[43m,\u001B[49m\n\u001B[0;32m   1110\u001B[0m \u001B[43m        \u001B[49m\u001B[43mestimator_name\u001B[49m\u001B[38;5;241;43m=\u001B[39;49m\u001B[43mestimator_name\u001B[49m\u001B[43m,\u001B[49m\n\u001B[0;32m   1111\u001B[0m \u001B[43m        \u001B[49m\u001B[43mallow_nan\u001B[49m\u001B[38;5;241;43m=\u001B[39;49m\u001B[43mensure_all_finite\u001B[49m\u001B[43m \u001B[49m\u001B[38;5;241;43m==\u001B[39;49m\u001B[43m \u001B[49m\u001B[38;5;124;43m\"\u001B[39;49m\u001B[38;5;124;43mallow-nan\u001B[39;49m\u001B[38;5;124;43m\"\u001B[39;49m\u001B[43m,\u001B[49m\n\u001B[0;32m   1112\u001B[0m \u001B[43m    \u001B[49m\u001B[43m)\u001B[49m\n\u001B[0;32m   1114\u001B[0m \u001B[38;5;28;01mif\u001B[39;00m copy:\n\u001B[0;32m   1115\u001B[0m     \u001B[38;5;28;01mif\u001B[39;00m _is_numpy_namespace(xp):\n\u001B[0;32m   1116\u001B[0m         \u001B[38;5;66;03m# only make a copy if `array` and `array_orig` may share memory`\u001B[39;00m\n",
      "File \u001B[1;32m~\\Documents\\GitHub\\ab2\\kickstarter-project-analysis\\.venv\\lib\\site-packages\\sklearn\\utils\\validation.py:120\u001B[0m, in \u001B[0;36m_assert_all_finite\u001B[1;34m(X, allow_nan, msg_dtype, estimator_name, input_name)\u001B[0m\n\u001B[0;32m    117\u001B[0m \u001B[38;5;28;01mif\u001B[39;00m first_pass_isfinite:\n\u001B[0;32m    118\u001B[0m     \u001B[38;5;28;01mreturn\u001B[39;00m\n\u001B[1;32m--> 120\u001B[0m \u001B[43m_assert_all_finite_element_wise\u001B[49m\u001B[43m(\u001B[49m\n\u001B[0;32m    121\u001B[0m \u001B[43m    \u001B[49m\u001B[43mX\u001B[49m\u001B[43m,\u001B[49m\n\u001B[0;32m    122\u001B[0m \u001B[43m    \u001B[49m\u001B[43mxp\u001B[49m\u001B[38;5;241;43m=\u001B[39;49m\u001B[43mxp\u001B[49m\u001B[43m,\u001B[49m\n\u001B[0;32m    123\u001B[0m \u001B[43m    \u001B[49m\u001B[43mallow_nan\u001B[49m\u001B[38;5;241;43m=\u001B[39;49m\u001B[43mallow_nan\u001B[49m\u001B[43m,\u001B[49m\n\u001B[0;32m    124\u001B[0m \u001B[43m    \u001B[49m\u001B[43mmsg_dtype\u001B[49m\u001B[38;5;241;43m=\u001B[39;49m\u001B[43mmsg_dtype\u001B[49m\u001B[43m,\u001B[49m\n\u001B[0;32m    125\u001B[0m \u001B[43m    \u001B[49m\u001B[43mestimator_name\u001B[49m\u001B[38;5;241;43m=\u001B[39;49m\u001B[43mestimator_name\u001B[49m\u001B[43m,\u001B[49m\n\u001B[0;32m    126\u001B[0m \u001B[43m    \u001B[49m\u001B[43minput_name\u001B[49m\u001B[38;5;241;43m=\u001B[39;49m\u001B[43minput_name\u001B[49m\u001B[43m,\u001B[49m\n\u001B[0;32m    127\u001B[0m \u001B[43m\u001B[49m\u001B[43m)\u001B[49m\n",
      "File \u001B[1;32m~\\Documents\\GitHub\\ab2\\kickstarter-project-analysis\\.venv\\lib\\site-packages\\sklearn\\utils\\validation.py:169\u001B[0m, in \u001B[0;36m_assert_all_finite_element_wise\u001B[1;34m(X, xp, allow_nan, msg_dtype, estimator_name, input_name)\u001B[0m\n\u001B[0;32m    152\u001B[0m \u001B[38;5;28;01mif\u001B[39;00m estimator_name \u001B[38;5;129;01mand\u001B[39;00m input_name \u001B[38;5;241m==\u001B[39m \u001B[38;5;124m\"\u001B[39m\u001B[38;5;124mX\u001B[39m\u001B[38;5;124m\"\u001B[39m \u001B[38;5;129;01mand\u001B[39;00m has_nan_error:\n\u001B[0;32m    153\u001B[0m     \u001B[38;5;66;03m# Improve the error message on how to handle missing values in\u001B[39;00m\n\u001B[0;32m    154\u001B[0m     \u001B[38;5;66;03m# scikit-learn.\u001B[39;00m\n\u001B[0;32m    155\u001B[0m     msg_err \u001B[38;5;241m+\u001B[39m\u001B[38;5;241m=\u001B[39m (\n\u001B[0;32m    156\u001B[0m         \u001B[38;5;124mf\u001B[39m\u001B[38;5;124m\"\u001B[39m\u001B[38;5;130;01m\\n\u001B[39;00m\u001B[38;5;132;01m{\u001B[39;00mestimator_name\u001B[38;5;132;01m}\u001B[39;00m\u001B[38;5;124m does not accept missing values\u001B[39m\u001B[38;5;124m\"\u001B[39m\n\u001B[0;32m    157\u001B[0m         \u001B[38;5;124m\"\u001B[39m\u001B[38;5;124m encoded as NaN natively. For supervised learning, you might want\u001B[39m\u001B[38;5;124m\"\u001B[39m\n\u001B[1;32m   (...)\u001B[0m\n\u001B[0;32m    167\u001B[0m         \u001B[38;5;124m\"\u001B[39m\u001B[38;5;124m#estimators-that-handle-nan-values\u001B[39m\u001B[38;5;124m\"\u001B[39m\n\u001B[0;32m    168\u001B[0m     )\n\u001B[1;32m--> 169\u001B[0m \u001B[38;5;28;01mraise\u001B[39;00m \u001B[38;5;167;01mValueError\u001B[39;00m(msg_err)\n",
      "\u001B[1;31mValueError\u001B[0m: Input contains infinity or a value too large for dtype('float64')."
     ]
    }
   ],
   "execution_count": 17
  },
  {
   "cell_type": "code",
   "execution_count": null,
   "id": "4b2d60f5ae5311c1",
   "metadata": {},
   "outputs": [],
   "source": [
    "# print(pd.DataFrame(res_models).to_markdown(index=False))"
   ]
  },
  {
   "cell_type": "markdown",
   "id": "b736a9a151381a91",
   "metadata": {},
   "source": [
    "**Tableau.** Résultats des modèles de régression\n",
    "\n",
    "| Modèle                           |     AIC |     BIC |          MAE |\n",
    "|:---------------------------------|--------:|--------:|-------------:|\n",
    "| Cox proportionnel                |   nan   |   nan   | 13.6055      |\n",
    "| Aalen additif (sans pénalité)    |   nan   |   nan   | 13.9461      |\n",
    "| Aalen additif (avec pénalité=10) |   nan   |   nan   | 14.0145      |\n",
    "| Weibull AFT                      | 19465.7 | 19470.3 |  3.24738e+77 |\n",
    "| Exponentiel morceaux (3)         | 19127.7 | 19121.1 | 13.0742      |\n",
    "| Exponentiel morceaux (5)         | 19138.1 | 19128.1 | 13.2367      |\n"
   ]
  },
  {
   "cell_type": "markdown",
   "id": "536e61f2ccc9bd35",
   "metadata": {},
   "source": [
    "Meilleur modèle : **exponentiel par morceaux (3)**"
   ]
  },
  {
   "cell_type": "markdown",
   "id": "b3ad3eb1ce8cd118",
   "metadata": {},
   "source": [
    "Nos 3 meilleurs modèles de régression sont :\n",
    "1) Exponenentiel morceaux (3)\n",
    "2) Exponentiel morceaux (5)\n",
    "3) Cox proportionnel"
   ]
  },
  {
   "metadata": {},
   "cell_type": "code",
   "outputs": [],
   "execution_count": null,
   "source": "",
   "id": "7dec11da4e09a059"
  }
 ],
 "metadata": {
  "kernelspec": {
   "display_name": "python3",
   "language": "python",
   "name": "python3"
  }
 },
 "nbformat": 4,
 "nbformat_minor": 5
}
