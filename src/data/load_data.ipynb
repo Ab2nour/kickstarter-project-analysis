{
 "cells": [
  {
   "cell_type": "code",
   "execution_count": 20,
   "id": "d1378cbce822ea32",
   "metadata": {
    "ExecuteTime": {
     "end_time": "2025-03-13T14:42:11.295039Z",
     "start_time": "2025-03-13T14:42:11.281041Z"
    }
   },
   "outputs": [],
   "source": [
    "import matplotlib.pyplot as plt\n",
    "import pandas as pd\n",
    "import seaborn as sns\n",
    "\n",
    "from src.data.data_dtypes import df_original_dtypes\n",
    "from src.utils import init_notebook"
   ]
  },
  {
   "cell_type": "code",
   "execution_count": 21,
   "id": "23da4ef2ee8a8b97",
   "metadata": {
    "ExecuteTime": {
     "end_time": "2025-03-13T14:42:11.668025Z",
     "start_time": "2025-03-13T14:42:11.655026Z"
    }
   },
   "outputs": [],
   "source": [
    "init_notebook()"
   ]
  },
  {
   "cell_type": "code",
   "execution_count": 22,
   "id": "a106c8561fd8131c",
   "metadata": {
    "ExecuteTime": {
     "end_time": "2025-03-13T14:42:12.399698Z",
     "start_time": "2025-03-13T14:42:12.214869Z"
    }
   },
   "outputs": [],
   "source": [
    "df_1 = pd.read_csv(\n",
    "    \"data/kickstarter_1.csv\",\n",
    "    parse_dates=True,\n",
    ")"
   ]
  },
  {
   "cell_type": "code",
   "execution_count": 26,
   "id": "d43bfd4ca6b0855f",
   "metadata": {
    "ExecuteTime": {
     "end_time": "2025-03-13T14:44:28.195603Z",
     "start_time": "2025-03-13T14:44:27.821637Z"
    }
   },
   "outputs": [],
   "source": [
    "dfs = [pd.read_csv(f\"data/kickstarter_{i}.csv\") for i in range(1, 5)]\n",
    "df = pd.concat(dfs, ignore_index=True)"
   ]
  },
  {
   "cell_type": "code",
   "execution_count": 29,
   "id": "e020a4fb620cd58d",
   "metadata": {
    "ExecuteTime": {
     "end_time": "2025-03-13T14:45:22.395961Z",
     "start_time": "2025-03-13T14:45:22.368964Z"
    }
   },
   "outputs": [
    {
     "name": "stdout",
     "output_type": "stream",
     "text": [
      "<class 'pandas.core.frame.DataFrame'>\n",
      "RangeIndex: 4175 entries, 0 to 4174\n",
      "Data columns (total 56 columns):\n",
      " #   Column                      Non-Null Count  Dtype  \n",
      "---  ------                      --------------  -----  \n",
      " 0   day_succ                    4175 non-null   int64  \n",
      " 1   Status                      4175 non-null   int64  \n",
      " 2   cat1                        4175 non-null   int64  \n",
      " 3   cat2                        4175 non-null   int64  \n",
      " 4   cat3                        4175 non-null   int64  \n",
      " 5   cat4                        4175 non-null   int64  \n",
      " 6   cat5                        4175 non-null   int64  \n",
      " 7   cat6                        4175 non-null   int64  \n",
      " 8   cat7                        4175 non-null   int64  \n",
      " 9   cat8                        4175 non-null   int64  \n",
      " 10  cat9                        4175 non-null   int64  \n",
      " 11  cat10                       4175 non-null   int64  \n",
      " 12  cat11                       4175 non-null   int64  \n",
      " 13  cat12                       4175 non-null   int64  \n",
      " 14  cat13                       4175 non-null   int64  \n",
      " 15  cat14                       4175 non-null   int64  \n",
      " 16  cat15                       4175 non-null   int64  \n",
      " 17  curr1                       4175 non-null   int64  \n",
      " 18  curr2                       4175 non-null   int64  \n",
      " 19  curr3                       4175 non-null   int64  \n",
      " 20  curr4                       4175 non-null   int64  \n",
      " 21  curr5                       4175 non-null   int64  \n",
      " 22  curr6                       4175 non-null   int64  \n",
      " 23  goal                        4175 non-null   float64\n",
      " 24  backers                     4175 non-null   float64\n",
      " 25  pledged                     4175 non-null   float64\n",
      " 26  duration                    4175 non-null   float64\n",
      " 27  updates                     4175 non-null   float64\n",
      " 28  comments                    4175 non-null   float64\n",
      " 29  rewards                     4175 non-null   float64\n",
      " 30  facebook_connected          4175 non-null   int64  \n",
      " 31  facebook_friends            4175 non-null   float64\n",
      " 32  facebook_shares             4175 non-null   float64\n",
      " 33  has_video                   4175 non-null   int64  \n",
      " 34  creator_projects_created    4175 non-null   float64\n",
      " 35  creator_projects_backed     4175 non-null   float64\n",
      " 36  videos                      4175 non-null   float64\n",
      " 37  images                      4175 non-null   float64\n",
      " 38  words_description           4175 non-null   float64\n",
      " 39  words_risks_and_challenges  4175 non-null   float64\n",
      " 40  faqs                        4175 non-null   float64\n",
      " 41  prj_prom                    4175 non-null   float64\n",
      " 42  crt_suc_perc                4175 non-null   float64\n",
      " 43  usr_net_pg_rnk              4175 non-null   float64\n",
      " 44  usr_net_nodes               4175 non-null   float64\n",
      " 45  usr_net_tie                 4175 non-null   float64\n",
      " 46  usr_net_bic                 4175 non-null   float64\n",
      " 47  1f_plg                      4175 non-null   float64\n",
      " 48  1f_bck                      4175 non-null   float64\n",
      " 49  1prj_prom                   4175 non-null   float64\n",
      " 50  2f_plg                      4175 non-null   float64\n",
      " 51  2f_bck                      4175 non-null   float64\n",
      " 52  2prj_prom                   4175 non-null   float64\n",
      " 53  3f_plg                      4175 non-null   float64\n",
      " 54  3f_bck                      4175 non-null   float64\n",
      " 55  3prj_prom                   4175 non-null   float64\n",
      "dtypes: float64(31), int64(25)\n",
      "memory usage: 1.8 MB\n"
     ]
    }
   ],
   "source": [
    "df.info()"
   ]
  },
  {
   "cell_type": "code",
   "execution_count": 23,
   "id": "a81ff09d8ab49aee",
   "metadata": {
    "ExecuteTime": {
     "end_time": "2025-03-13T14:42:12.776147Z",
     "start_time": "2025-03-13T14:42:12.762146Z"
    }
   },
   "outputs": [],
   "source": [
    "event_times = df[\"day_succ\"]\n",
    "event_observed = df[\"Status\"]\n",
    "\n",
    "event_times_no_censoring = df[\"day_succ\"][df[\"Status\"] == 1]\n",
    "event_observed_no_censoring = df[\"Status\"][df[\"Status\"] == 1]"
   ]
  },
  {
   "cell_type": "code",
   "execution_count": 24,
   "id": "df861368cde0fa15",
   "metadata": {
    "ExecuteTime": {
     "end_time": "2025-03-13T14:42:13.383356Z",
     "start_time": "2025-03-13T14:42:13.214466Z"
    }
   },
   "outputs": [
    {
     "name": "stderr",
     "output_type": "stream",
     "text": [
      "C:\\Users\\AB2-PC\\AppData\\Local\\Temp\\ipykernel_7372\\2606616299.py:1: DtypeWarning: Columns (27) have mixed types. Specify dtype option on import or set low_memory=False.\n",
      "  df_original = pd.read_csv(\n"
     ]
    }
   ],
   "source": [
    "df_original = pd.read_csv(\n",
    "    \"data/18k_Projects.csv\",\n",
    "    parse_dates=[\"Start\", \"End\"],\n",
    "    sep=\"\\t\",\n",
    "    dtype=df_original_dtypes,\n",
    ")"
   ]
  }
 ],
 "metadata": {
  "kernelspec": {
   "display_name": "Python 3",
   "language": "python",
   "name": "python3"
  },
  "language_info": {
   "codemirror_mode": {
    "name": "ipython",
    "version": 2
   },
   "file_extension": ".py",
   "mimetype": "text/x-python",
   "name": "python",
   "nbconvert_exporter": "python",
   "pygments_lexer": "ipython2",
   "version": "2.7.6"
  }
 },
 "nbformat": 4,
 "nbformat_minor": 5
}
